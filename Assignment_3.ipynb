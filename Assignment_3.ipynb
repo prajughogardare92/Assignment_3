{
 "cells": [
  {
   "cell_type": "code",
   "execution_count": null,
   "metadata": {},
   "outputs": [],
   "source": [
    "#Write a function to compute 5/0 and use try/except to catch the exceptions. "
   ]
  },
  {
   "cell_type": "code",
   "execution_count": 1,
   "metadata": {},
   "outputs": [],
   "source": [
    "def divide(x,y):\n",
    "    try:\n",
    "        result = x//y\n",
    "        print(\"your answer is :\", result)\n",
    "    except ZeroDivisionError:\n",
    "        print(\"sorry ! someting is wrong\")"
   ]
  },
  {
   "cell_type": "code",
   "execution_count": 2,
   "metadata": {},
   "outputs": [
    {
     "name": "stdout",
     "output_type": "stream",
     "text": [
      "sorry ! someting is wrong\n"
     ]
    }
   ],
   "source": [
    "divide(5,0)"
   ]
  },
  {
   "cell_type": "code",
   "execution_count": null,
   "metadata": {},
   "outputs": [],
   "source": []
  },
  {
   "cell_type": "code",
   "execution_count": null,
   "metadata": {},
   "outputs": [],
   "source": [
    "#Implement a Python program to generate all sentences where subject is in [\"Americans\", \"Indians\"] and verb is in [\"Play\", \"watch\"] and the object is in [\"Baseball\",\"cricket\"]. \n",
    " \n",
    "#Hint: Subject,Verb and Object should be declared in the program as shown below. \n",
    " \n",
    "#subjects=[\"Americans \",\"Indians\"] verbs=[\"play\",\"watch\"] objects=[\"Baseball\",\"Cricket\"] \n",
    " \n",
    "#Output should come as below: \n",
    " \n",
    "#Americans  play Baseball. Americans  play Cricket. Americans  watch Baseball. Americans  watch Cricket. Indians play Baseball. Indians play Cricket. Indians watch Baseball. Indians watch Cricket."
   ]
  },
  {
   "cell_type": "code",
   "execution_count": null,
   "metadata": {},
   "outputs": [],
   "source": [
    "subject=[\"Americans\", \"Indians\"]\n",
    "verb=[\"Play\", \"watch\"]\n",
    "obj=[\"Baseball\",\"cricket\"]\n",
    "\n",
    "\n",
    "sentence_list = [(sub+\" \"+ vb + \" \" + ob) for sub in subject for vb in verb for ob in obj]\n",
    "for sentence in sentence_list:\n",
    " print (sentence)\n"
   ]
  },
  {
   "cell_type": "code",
   "execution_count": null,
   "metadata": {},
   "outputs": [],
   "source": [
    "#Write a function so that the columns of the output matrix are powers of the input vector.  \n",
    "#The order of the powers is determined by the increasing boolean argument. Specifically, when              increasing is False, the i-th output column is the input vector raised element-wise to the power                of N - i - 1.  \n",
    " \n",
    "#HINT: Such a matrix with a geometric progression in each row is named for Alexandre               Theophile Vandermonde. "
   ]
  },
  {
   "cell_type": "code",
   "execution_count": null,
   "metadata": {},
   "outputs": [],
   "source": [
    "import numpy as np\n",
    "\n",
    "l=[]\n",
    "\n",
    "n= int(input(\"number of items in an array\"))\n",
    "\n",
    "for i in range(0,n):\n",
    "    num=int(input(\"numbers\"))\n",
    "    l.append(num)\n",
    "\n",
    "print(\"list is :\",l)\n",
    "\n",
    "arr=np.array(l)\n",
    "print(\"Array:\",arr)\n",
    "\n",
    "def matrix():\n",
    "\n",
    "    m=np.vander(arr,N=4)\n",
    "    print(\"the required matrix is :\",m)\n",
    "matrix()    "
   ]
  }
 ],
 "metadata": {
  "kernelspec": {
   "display_name": "Python 3",
   "language": "python",
   "name": "python3"
  },
  "language_info": {
   "codemirror_mode": {
    "name": "ipython",
    "version": 3
   },
   "file_extension": ".py",
   "mimetype": "text/x-python",
   "name": "python",
   "nbconvert_exporter": "python",
   "pygments_lexer": "ipython3",
   "version": "3.7.4"
  }
 },
 "nbformat": 4,
 "nbformat_minor": 2
}
